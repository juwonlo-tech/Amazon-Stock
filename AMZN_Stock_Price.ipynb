{
  "nbformat": 4,
  "nbformat_minor": 0,
  "metadata": {
    "colab": {
      "provenance": [],
      "collapsed_sections": []
    },
    "kernelspec": {
      "name": "python3",
      "display_name": "Python 3"
    },
    "language_info": {
      "name": "python"
    }
  },
  "cells": [
    {
      "cell_type": "markdown",
      "source": [
        "## Using a Plain RNN Model to Predict Amazon Stock Prices\n",
        "\n",
        "Juwonlo Siyanbade\n"
      ],
      "metadata": {
        "id": "nRLb3Teo_LCT"
      }
    },
    {
      "cell_type": "markdown",
      "source": [
        "### Import neccessary libraries"
      ],
      "metadata": {
        "id": "vmAvbgb7__Pw"
      }
    },
    {
      "cell_type": "code",
      "source": [
        "import pandas as pd\n",
        "import numpy as np\n",
        "import matplotlib.pyplot as plt\n",
        "from tensorflow.keras.models import Sequential\n",
        "from tensorflow.keras.layers \\\n",
        "import SimpleRNN, Activation, Dropout, Embedding, Dense, Reshape, SpatialDropout1D\n",
        "from tensorflow.keras.layers import Conv1D, MaxPooling1D, Flatten\n",
        "from sklearn.preprocessing import MinMaxScaler\n",
        "from sklearn.metrics import mean_squared_error\n",
        "\n",
        "%matplotlib inline"
      ],
      "metadata": {
        "id": "UloZdpZE_KlK"
      },
      "execution_count": 1,
      "outputs": []
    },
    {
      "cell_type": "markdown",
      "source": [
        "## Reading and Preprocessing the Data"
      ],
      "metadata": {
        "id": "dq954lbXHZqM"
      }
    },
    {
      "cell_type": "code",
      "execution_count": 2,
      "metadata": {
        "id": "yyvQZtn69_oM"
      },
      "outputs": [],
      "source": [
        "df = pd.read_csv('/content/drive/MyDrive/NN/AMZN.csv')"
      ]
    },
    {
      "cell_type": "code",
      "source": [
        "len(df)"
      ],
      "metadata": {
        "colab": {
          "base_uri": "https://localhost:8080/"
        },
        "id": "T-Hhz_gGFwoL",
        "outputId": "e0f62db7-e9ff-4a82-b4b4-6dc5f817faeb"
      },
      "execution_count": 3,
      "outputs": [
        {
          "output_type": "execute_result",
          "data": {
            "text/plain": [
              "2517"
            ]
          },
          "metadata": {},
          "execution_count": 3
        }
      ]
    },
    {
      "cell_type": "markdown",
      "source": [
        "The stock price data was gotten from https://www.nasdaq.com/market-activity/stocks/amzn/historical\n",
        "\n",
        "The data contains 2517 values collected over 10 years(2012 - 2022)"
      ],
      "metadata": {
        "id": "A1AGI-lXNqBi"
      }
    },
    {
      "cell_type": "code",
      "source": [
        "# Preview data\n",
        "df.head()"
      ],
      "metadata": {
        "colab": {
          "base_uri": "https://localhost:8080/",
          "height": 204
        },
        "id": "A_Yg1Im5PIDh",
        "outputId": "bda9eb58-a8cd-4239-bb3f-f35e0957ace4"
      },
      "execution_count": 4,
      "outputs": [
        {
          "output_type": "execute_result",
          "data": {
            "text/plain": [
              "         Date     Close     Volume      Open      High       Low\n",
              "0  11/02/2022   $92.12   135761800   $97.32    $97.74    $92.01 \n",
              "1  11/01/2022   $96.79   153370000  $103.99   $104.58    $96.06 \n",
              "2  10/31/2022  $102.44    99251400  $103.56   $104.87   $100.74 \n",
              "3  10/28/2022  $103.41   223133400   $97.91   $103.96    $97.66 \n",
              "4  10/27/2022  $110.96   129605400  $113.92   $114.12   $109.77 "
            ],
            "text/html": [
              "\n",
              "  <div id=\"df-da503aa3-51f7-4405-b171-c5168a947004\">\n",
              "    <div class=\"colab-df-container\">\n",
              "      <div>\n",
              "<style scoped>\n",
              "    .dataframe tbody tr th:only-of-type {\n",
              "        vertical-align: middle;\n",
              "    }\n",
              "\n",
              "    .dataframe tbody tr th {\n",
              "        vertical-align: top;\n",
              "    }\n",
              "\n",
              "    .dataframe thead th {\n",
              "        text-align: right;\n",
              "    }\n",
              "</style>\n",
              "<table border=\"1\" class=\"dataframe\">\n",
              "  <thead>\n",
              "    <tr style=\"text-align: right;\">\n",
              "      <th></th>\n",
              "      <th>Date</th>\n",
              "      <th>Close</th>\n",
              "      <th>Volume</th>\n",
              "      <th>Open</th>\n",
              "      <th>High</th>\n",
              "      <th>Low</th>\n",
              "    </tr>\n",
              "  </thead>\n",
              "  <tbody>\n",
              "    <tr>\n",
              "      <th>0</th>\n",
              "      <td>11/02/2022</td>\n",
              "      <td>$92.12</td>\n",
              "      <td>135761800</td>\n",
              "      <td>$97.32</td>\n",
              "      <td>$97.74</td>\n",
              "      <td>$92.01</td>\n",
              "    </tr>\n",
              "    <tr>\n",
              "      <th>1</th>\n",
              "      <td>11/01/2022</td>\n",
              "      <td>$96.79</td>\n",
              "      <td>153370000</td>\n",
              "      <td>$103.99</td>\n",
              "      <td>$104.58</td>\n",
              "      <td>$96.06</td>\n",
              "    </tr>\n",
              "    <tr>\n",
              "      <th>2</th>\n",
              "      <td>10/31/2022</td>\n",
              "      <td>$102.44</td>\n",
              "      <td>99251400</td>\n",
              "      <td>$103.56</td>\n",
              "      <td>$104.87</td>\n",
              "      <td>$100.74</td>\n",
              "    </tr>\n",
              "    <tr>\n",
              "      <th>3</th>\n",
              "      <td>10/28/2022</td>\n",
              "      <td>$103.41</td>\n",
              "      <td>223133400</td>\n",
              "      <td>$97.91</td>\n",
              "      <td>$103.96</td>\n",
              "      <td>$97.66</td>\n",
              "    </tr>\n",
              "    <tr>\n",
              "      <th>4</th>\n",
              "      <td>10/27/2022</td>\n",
              "      <td>$110.96</td>\n",
              "      <td>129605400</td>\n",
              "      <td>$113.92</td>\n",
              "      <td>$114.12</td>\n",
              "      <td>$109.77</td>\n",
              "    </tr>\n",
              "  </tbody>\n",
              "</table>\n",
              "</div>\n",
              "      <button class=\"colab-df-convert\" onclick=\"convertToInteractive('df-da503aa3-51f7-4405-b171-c5168a947004')\"\n",
              "              title=\"Convert this dataframe to an interactive table.\"\n",
              "              style=\"display:none;\">\n",
              "        \n",
              "  <svg xmlns=\"http://www.w3.org/2000/svg\" height=\"24px\"viewBox=\"0 0 24 24\"\n",
              "       width=\"24px\">\n",
              "    <path d=\"M0 0h24v24H0V0z\" fill=\"none\"/>\n",
              "    <path d=\"M18.56 5.44l.94 2.06.94-2.06 2.06-.94-2.06-.94-.94-2.06-.94 2.06-2.06.94zm-11 1L8.5 8.5l.94-2.06 2.06-.94-2.06-.94L8.5 2.5l-.94 2.06-2.06.94zm10 10l.94 2.06.94-2.06 2.06-.94-2.06-.94-.94-2.06-.94 2.06-2.06.94z\"/><path d=\"M17.41 7.96l-1.37-1.37c-.4-.4-.92-.59-1.43-.59-.52 0-1.04.2-1.43.59L10.3 9.45l-7.72 7.72c-.78.78-.78 2.05 0 2.83L4 21.41c.39.39.9.59 1.41.59.51 0 1.02-.2 1.41-.59l7.78-7.78 2.81-2.81c.8-.78.8-2.07 0-2.86zM5.41 20L4 18.59l7.72-7.72 1.47 1.35L5.41 20z\"/>\n",
              "  </svg>\n",
              "      </button>\n",
              "      \n",
              "  <style>\n",
              "    .colab-df-container {\n",
              "      display:flex;\n",
              "      flex-wrap:wrap;\n",
              "      gap: 12px;\n",
              "    }\n",
              "\n",
              "    .colab-df-convert {\n",
              "      background-color: #E8F0FE;\n",
              "      border: none;\n",
              "      border-radius: 50%;\n",
              "      cursor: pointer;\n",
              "      display: none;\n",
              "      fill: #1967D2;\n",
              "      height: 32px;\n",
              "      padding: 0 0 0 0;\n",
              "      width: 32px;\n",
              "    }\n",
              "\n",
              "    .colab-df-convert:hover {\n",
              "      background-color: #E2EBFA;\n",
              "      box-shadow: 0px 1px 2px rgba(60, 64, 67, 0.3), 0px 1px 3px 1px rgba(60, 64, 67, 0.15);\n",
              "      fill: #174EA6;\n",
              "    }\n",
              "\n",
              "    [theme=dark] .colab-df-convert {\n",
              "      background-color: #3B4455;\n",
              "      fill: #D2E3FC;\n",
              "    }\n",
              "\n",
              "    [theme=dark] .colab-df-convert:hover {\n",
              "      background-color: #434B5C;\n",
              "      box-shadow: 0px 1px 3px 1px rgba(0, 0, 0, 0.15);\n",
              "      filter: drop-shadow(0px 1px 2px rgba(0, 0, 0, 0.3));\n",
              "      fill: #FFFFFF;\n",
              "    }\n",
              "  </style>\n",
              "\n",
              "      <script>\n",
              "        const buttonEl =\n",
              "          document.querySelector('#df-da503aa3-51f7-4405-b171-c5168a947004 button.colab-df-convert');\n",
              "        buttonEl.style.display =\n",
              "          google.colab.kernel.accessAllowed ? 'block' : 'none';\n",
              "\n",
              "        async function convertToInteractive(key) {\n",
              "          const element = document.querySelector('#df-da503aa3-51f7-4405-b171-c5168a947004');\n",
              "          const dataTable =\n",
              "            await google.colab.kernel.invokeFunction('convertToInteractive',\n",
              "                                                     [key], {});\n",
              "          if (!dataTable) return;\n",
              "\n",
              "          const docLinkHtml = 'Like what you see? Visit the ' +\n",
              "            '<a target=\"_blank\" href=https://colab.research.google.com/notebooks/data_table.ipynb>data table notebook</a>'\n",
              "            + ' to learn more about interactive tables.';\n",
              "          element.innerHTML = '';\n",
              "          dataTable['output_type'] = 'display_data';\n",
              "          await google.colab.output.renderOutput(dataTable, element);\n",
              "          const docLink = document.createElement('div');\n",
              "          docLink.innerHTML = docLinkHtml;\n",
              "          element.appendChild(docLink);\n",
              "        }\n",
              "      </script>\n",
              "    </div>\n",
              "  </div>\n",
              "  "
            ]
          },
          "metadata": {},
          "execution_count": 4
        }
      ]
    },
    {
      "cell_type": "code",
      "source": [
        "# Remove $ from prices and cast as float\n",
        "df['Close'] = df['Close'].str.replace('$', '').astype(float)\n",
        "df['Open'] = df['Open'].str.replace('$', '').astype(float)\n",
        "df['High'] = df['High'].str.replace('$', '').astype(float)\n",
        "df['Low'] = df['Low'].str.replace('$', '').astype(float)"
      ],
      "metadata": {
        "colab": {
          "base_uri": "https://localhost:8080/"
        },
        "id": "Jx5uBjIiHl2Y",
        "outputId": "49e60dc5-321d-4419-b047-37892ddca3a6"
      },
      "execution_count": 5,
      "outputs": [
        {
          "output_type": "stream",
          "name": "stderr",
          "text": [
            "/usr/local/lib/python3.7/dist-packages/ipykernel_launcher.py:2: FutureWarning: The default value of regex will change from True to False in a future version. In addition, single character regular expressions will *not* be treated as literal strings when regex=True.\n",
            "  \n",
            "/usr/local/lib/python3.7/dist-packages/ipykernel_launcher.py:3: FutureWarning: The default value of regex will change from True to False in a future version. In addition, single character regular expressions will *not* be treated as literal strings when regex=True.\n",
            "  This is separate from the ipykernel package so we can avoid doing imports until\n",
            "/usr/local/lib/python3.7/dist-packages/ipykernel_launcher.py:4: FutureWarning: The default value of regex will change from True to False in a future version. In addition, single character regular expressions will *not* be treated as literal strings when regex=True.\n",
            "  after removing the cwd from sys.path.\n",
            "/usr/local/lib/python3.7/dist-packages/ipykernel_launcher.py:5: FutureWarning: The default value of regex will change from True to False in a future version. In addition, single character regular expressions will *not* be treated as literal strings when regex=True.\n",
            "  \"\"\"\n"
          ]
        }
      ]
    },
    {
      "cell_type": "code",
      "source": [
        "# Convert Date column to numeric data type\n",
        "df[\"Date\"] = pd.to_numeric(df[\"Date\"], errors='ignore')"
      ],
      "metadata": {
        "id": "ft40Q6hPNLIb"
      },
      "execution_count": 6,
      "outputs": []
    },
    {
      "cell_type": "code",
      "source": [
        "df.info()"
      ],
      "metadata": {
        "colab": {
          "base_uri": "https://localhost:8080/"
        },
        "id": "JJog1i-0MVGj",
        "outputId": "ef1d749f-cf16-40fa-ab89-b51dfdc1a0e3"
      },
      "execution_count": 7,
      "outputs": [
        {
          "output_type": "stream",
          "name": "stdout",
          "text": [
            "<class 'pandas.core.frame.DataFrame'>\n",
            "RangeIndex: 2517 entries, 0 to 2516\n",
            "Data columns (total 6 columns):\n",
            " #   Column  Non-Null Count  Dtype  \n",
            "---  ------  --------------  -----  \n",
            " 0   Date    2517 non-null   object \n",
            " 1   Close   2517 non-null   float64\n",
            " 2   Volume  2517 non-null   int64  \n",
            " 3   Open    2517 non-null   float64\n",
            " 4   High    2517 non-null   float64\n",
            " 5   Low     2517 non-null   float64\n",
            "dtypes: float64(4), int64(1), object(1)\n",
            "memory usage: 118.1+ KB\n"
          ]
        }
      ]
    },
    {
      "cell_type": "markdown",
      "source": [
        "### Plot the closing price vs the date"
      ],
      "metadata": {
        "id": "8rbMnku2GMuH"
      }
    },
    {
      "cell_type": "code",
      "source": [
        "# Sort the data to have the more current data points on the right\n",
        "df = df.sort_index(ascending=False)\n",
        "df.plot(\"Date\", \"Close\")\n",
        "plt.title(\"AMZN closing stock prices between 2010 and 2020\")\n",
        "plt.ylabel('Closing stock price')\n",
        "plt.show()"
      ],
      "metadata": {
        "colab": {
          "base_uri": "https://localhost:8080/",
          "height": 295
        },
        "id": "ceUrldz7HWkh",
        "outputId": "1cdcb9b7-6b64-49f1-f958-c2590f942e89"
      },
      "execution_count": 8,
      "outputs": [
        {
          "output_type": "display_data",
          "data": {
            "text/plain": [
              "<Figure size 432x288 with 1 Axes>"
            ],
            "image/png": "[encoded data removed]"
          },
          "metadata": {
            "needs_background": "light"
          }
        }
      ]
    },
    {
      "cell_type": "markdown",
      "source": [
        "From the plot above, it is observed that the stock had its highest closing values between 2019 and 2022, soaring highest in 2021. The jump can be traced to the rise in patronage of the e-commerce giant during the COVID-19 pandemic."
      ],
      "metadata": {
        "id": "LClAcMVGCDuu"
      }
    },
    {
      "cell_type": "markdown",
      "source": [
        "### Extract the closing values and plot "
      ],
      "metadata": {
        "id": "NSIzfp0XGZ8e"
      }
    },
    {
      "cell_type": "code",
      "source": [
        "closing_data = df.Close.values.reshape(-1,1)\n",
        "plt.figure(figsize=[14,5])\n",
        "plt.title(\"Values of AMZN stock prices and index\")\n",
        "plt.xlabel('Index')\n",
        "plt.ylabel('Closing stock price')\n",
        "plt.plot(closing_data)\n",
        "plt.show()"
      ],
      "metadata": {
        "colab": {
          "base_uri": "https://localhost:8080/",
          "height": 309
        },
        "id": "P831_BOoBkXI",
        "outputId": "0f99aa7e-bb77-4702-da7f-17943f3d3144"
      },
      "execution_count": 9,
      "outputs": [
        {
          "output_type": "display_data",
          "data": {
            "text/plain": [
              "<Figure size 1008x360 with 1 Axes>"
            ],
            "image/png": "[encoded data removed]"
          },
          "metadata": {
            "needs_background": "light"
          }
        }
      ]
    },
    {
      "cell_type": "markdown",
      "source": [
        "### Assign train and test data"
      ],
      "metadata": {
        "id": "6fdqicqqJrzd"
      }
    },
    {
      "cell_type": "code",
      "source": [
        "train_recs = int(len(df) * 0.75)\n",
        "train_data = closing_data[:train_recs]\n",
        "test_data = closing_data[train_recs:]\n",
        "len(train_data), len(test_data)"
      ],
      "metadata": {
        "id": "ENl2plDIBt_G",
        "colab": {
          "base_uri": "https://localhost:8080/"
        },
        "outputId": "c78afb06-da50-4434-cbd3-58d156fcfa0c"
      },
      "execution_count": 10,
      "outputs": [
        {
          "output_type": "execute_result",
          "data": {
            "text/plain": [
              "(1887, 630)"
            ]
          },
          "metadata": {},
          "execution_count": 10
        }
      ]
    },
    {
      "cell_type": "markdown",
      "source": [
        "### Scale the train and test data"
      ],
      "metadata": {
        "id": "BITz_i0uKNlK"
      }
    },
    {
      "cell_type": "code",
      "source": [
        "scaler = MinMaxScaler()\n",
        "train_scaled = scaler.fit_transform(train_data)\n",
        "test_scaled = scaler.transform(test_data)"
      ],
      "metadata": {
        "id": "xZqVYstvKCGh"
      },
      "execution_count": 11,
      "outputs": []
    },
    {
      "cell_type": "markdown",
      "source": [
        "### Create a get_lookback function and get lookback data for the train and test data using a lookback period"
      ],
      "metadata": {
        "id": "ZlEhfSDeKuYY"
      }
    },
    {
      "cell_type": "code",
      "source": [
        "def get_lookback(inp, look_back):\n",
        "  y = pd.DataFrame(inp)\n",
        "  dataX = [y.shift(i) for i in range(1, look_back+1)]\n",
        "  dataX = pd.concat(dataX, axis=1)\n",
        "  dataX.fillna(0, inplace = True)\n",
        "  return dataX.values, y.values"
      ],
      "metadata": {
        "id": "aUfxiS-nKUsC"
      },
      "execution_count": 12,
      "outputs": []
    },
    {
      "cell_type": "code",
      "source": [
        "look_back = 10\n",
        "trainX, trainY = get_lookback(train_scaled, look_back=look_back)\n",
        "testX, testY = get_lookback(test_scaled, look_back= look_back)"
      ],
      "metadata": {
        "id": "AXYbWajxK_3G"
      },
      "execution_count": 13,
      "outputs": []
    },
    {
      "cell_type": "code",
      "source": [
        "trainX.shape, testX.shape"
      ],
      "metadata": {
        "colab": {
          "base_uri": "https://localhost:8080/"
        },
        "id": "8-Pw401ALDsw",
        "outputId": "cbeb728c-7042-4f5c-ad44-3db83a238425"
      },
      "execution_count": 14,
      "outputs": [
        {
          "output_type": "execute_result",
          "data": {
            "text/plain": [
              "((1887, 10), (630, 10))"
            ]
          },
          "metadata": {},
          "execution_count": 14
        }
      ]
    },
    {
      "cell_type": "markdown",
      "source": [
        "### Build a stacked model with 1D convolution layer (5 filters of size 3) and 2 simple RNNs. Display its summary"
      ],
      "metadata": {
        "id": "GL9808DiLURK"
      }
    },
    {
      "cell_type": "code",
      "source": [
        "model = Sequential()\n",
        "model.add(Reshape((look_back,1),input_shape=(look_back,)))\n",
        "model.add(Conv1D(5,3,activation='relu'))\n",
        "model.add(SimpleRNN(128, return_sequences=True))\n",
        "model.add(SimpleRNN(64, return_sequences=False))\n",
        "model.add(Dropout(0.25))\n",
        "model.add(Dense(1))\n",
        "model.add(Activation('linear'))\n",
        "model.summary()"
      ],
      "metadata": {
        "colab": {
          "base_uri": "https://localhost:8080/"
        },
        "id": "XPqT_QRrLKkW",
        "outputId": "269c62af-2102-41c9-95da-d12421f7199e"
      },
      "execution_count": 15,
      "outputs": [
        {
          "output_type": "stream",
          "name": "stdout",
          "text": [
            "Model: \"sequential\"\n",
            "_________________________________________________________________\n",
            " Layer (type)                Output Shape              Param #   \n",
            "=================================================================\n",
            " reshape (Reshape)           (None, 10, 1)             0         \n",
            "                                                                 \n",
            " conv1d (Conv1D)             (None, 8, 5)              20        \n",
            "                                                                 \n",
            " simple_rnn (SimpleRNN)      (None, 8, 128)            17152     \n",
            "                                                                 \n",
            " simple_rnn_1 (SimpleRNN)    (None, 64)                12352     \n",
            "                                                                 \n",
            " dropout (Dropout)           (None, 64)                0         \n",
            "                                                                 \n",
            " dense (Dense)               (None, 1)                 65        \n",
            "                                                                 \n",
            " activation (Activation)     (None, 1)                 0         \n",
            "                                                                 \n",
            "=================================================================\n",
            "Total params: 29,589\n",
            "Trainable params: 29,589\n",
            "Non-trainable params: 0\n",
            "_________________________________________________________________\n"
          ]
        }
      ]
    },
    {
      "cell_type": "markdown",
      "source": [
        "### Compile the model"
      ],
      "metadata": {
        "id": "b1Gm6-krMjmi"
      }
    },
    {
      "cell_type": "code",
      "source": [
        "model.compile(loss='mean_squared_error',optimizer='adam')\n",
        "model.fit(trainX,trainY,epochs=5,\n",
        "          batch_size=1, validation_split=0.1)"
      ],
      "metadata": {
        "colab": {
          "base_uri": "https://localhost:8080/"
        },
        "id": "r6JMAncsMaqK",
        "outputId": "73614171-9467-4b79-be97-4fe3be350beb"
      },
      "execution_count": 16,
      "outputs": [
        {
          "output_type": "stream",
          "name": "stdout",
          "text": [
            "Epoch 1/5\n",
            "1698/1698 [==============================] - 26s 13ms/step - loss: 0.0125 - val_loss: 0.0010\n",
            "Epoch 2/5\n",
            "1698/1698 [==============================] - 10s 6ms/step - loss: 0.0035 - val_loss: 0.0094\n",
            "Epoch 3/5\n",
            "1698/1698 [==============================] - 7s 4ms/step - loss: 0.0022 - val_loss: 9.8836e-04\n",
            "Epoch 4/5\n",
            "1698/1698 [==============================] - 8s 4ms/step - loss: 0.0019 - val_loss: 0.0101\n",
            "Epoch 5/5\n",
            "1698/1698 [==============================] - 8s 4ms/step - loss: 0.0022 - val_loss: 0.0031\n"
          ]
        },
        {
          "output_type": "execute_result",
          "data": {
            "text/plain": [
              "<keras.callbacks.History at 0x7ff4abbfc850>"
            ]
          },
          "metadata": {},
          "execution_count": 16
        }
      ]
    },
    {
      "cell_type": "markdown",
      "source": [
        "### Print RMSE"
      ],
      "metadata": {
        "id": "u9P_DdkCNUed"
      }
    },
    {
      "cell_type": "code",
      "source": [
        "import math\n",
        "def get_model_perf(model_obj):\n",
        "  score_train = model_obj.evaluate(trainX, trainY, verbose=0)\n",
        "  print('Train RMSE: %.2f RMSE' % (math.sqrt(score_train)))\n",
        "  score_test = model_obj.evaluate(testX, testY, verbose=0)\n",
        "  print('Test RMSE: %.2f RMSE' % (math.sqrt(score_test)))\n",
        "get_model_perf(model)"
      ],
      "metadata": {
        "colab": {
          "base_uri": "https://localhost:8080/"
        },
        "id": "F1it2kJ9NIdb",
        "outputId": "bf155bd1-18b6-4076-a05e-fd09dc877736"
      },
      "execution_count": 17,
      "outputs": [
        {
          "output_type": "stream",
          "name": "stdout",
          "text": [
            "Train RMSE: 0.03 RMSE\n",
            "Test RMSE: 0.10 RMSE\n"
          ]
        }
      ]
    },
    {
      "cell_type": "markdown",
      "source": [
        "### Plot the predictions and the actual values"
      ],
      "metadata": {
        "id": "tlnia8IMOGla"
      }
    },
    {
      "cell_type": "code",
      "source": [
        "def plot_pred(model_obj):\n",
        "  testPredict = \\\n",
        "  scaler.inverse_transform(model_obj.predict(testX))\n",
        "  pred_test_plot = closing_data.copy()\n",
        "  pred_test_plot[:train_recs+look_back,:] = np.nan\n",
        "  pred_test_plot[train_recs+look_back:,:] = \\\n",
        "  testPredict[look_back:]\n",
        "  plt.plot(closing_data, color='grey')\n",
        "  plt.plot(pred_test_plot, linestyle='dashed')"
      ],
      "metadata": {
        "id": "bl5hFarhNceu"
      },
      "execution_count": 18,
      "outputs": []
    },
    {
      "cell_type": "code",
      "source": [
        "%matplotlib inline\n",
        "plt.figure(figsize=[10,5])\n",
        "plot_pred(model)\n",
        "plt.title(\"Result of the prediction and actual values of AMZN stock prices\")\n",
        "plt.xlabel('Index')\n",
        "plt.ylabel('Closing stock price')\n",
        "plt.savefig('amazon.jpg')"
      ],
      "metadata": {
        "colab": {
          "base_uri": "https://localhost:8080/",
          "height": 367
        },
        "id": "Bn6NHAE4OPpN",
        "outputId": "2241f425-ce9e-4f3c-88d2-f2031e749fa7"
      },
      "execution_count": 19,
      "outputs": [
        {
          "output_type": "stream",
          "name": "stdout",
          "text": [
            "20/20 [==============================] - 0s 3ms/step\n"
          ]
        },
        {
          "output_type": "display_data",
          "data": {
            "text/plain": [
              "<Figure size 720x360 with 1 Axes>"
            ],
            "image/png": "[encoded data removed]"
          },
          "metadata": {
            "needs_background": "light"
          }
        }
      ]
    },
    {
      "cell_type": "code",
      "source": [
        "# Zooming in on the predicted and actual values to access performance of the model\n",
        "%matplotlib inline\n",
        "plt.figure(figsize=[10,5])\n",
        "plot_pred(model)\n",
        "plt.xlim(1700,2800)\n",
        "plt.title(\"Zoomed-in view of the prediction and actual values of AMZN stock prices\")\n",
        "plt.xlabel('Index')\n",
        "plt.ylabel('Closing stock price')\n",
        "plt.savefig('amazon.jpg')"
      ],
      "metadata": {
        "colab": {
          "base_uri": "https://localhost:8080/",
          "height": 367
        },
        "id": "pVNFhTAAbv60",
        "outputId": "383e72d0-b26f-4edb-f62d-2953add0b943"
      },
      "execution_count": 21,
      "outputs": [
        {
          "output_type": "stream",
          "name": "stdout",
          "text": [
            "20/20 [==============================] - 0s 4ms/step\n"
          ]
        },
        {
          "output_type": "display_data",
          "data": {
            "text/plain": [
              "<Figure size 720x360 with 1 Axes>"
            ],
            "image/png": "[encoded data removed]"
          },
          "metadata": {
            "needs_background": "light"
          }
        }
      ]
    },
    {
      "cell_type": "markdown",
      "source": [
        "The model does a great job in predicting the daily stock price and captures the fine patterns of the actual values."
      ],
      "metadata": {
        "id": "PIaUSrzbPcZx"
      }
    },
    {
      "cell_type": "code",
      "source": [],
      "metadata": {
        "id": "VzTzjTvAOkOY"
      },
      "execution_count": 20,
      "outputs": []
    }
  ]
}